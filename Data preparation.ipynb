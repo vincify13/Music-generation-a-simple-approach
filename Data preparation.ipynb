{
 "cells": [
  {
   "cell_type": "code",
   "execution_count": 1,
   "metadata": {},
   "outputs": [],
   "source": [
    "from music21 import *\n",
    "import glob\n",
    "import pickle\n",
    "import pandas as pd\n",
    "import numpy as np"
   ]
  },
  {
   "cell_type": "markdown",
   "metadata": {},
   "source": [
    "Import function"
   ]
  },
  {
   "cell_type": "code",
   "execution_count": 2,
   "metadata": {},
   "outputs": [],
   "source": [
    "def get_notes(midi_path):\n",
    "    \n",
    "    \"\"\" Extracts all notes and chords from midi files in the ./midi_songs \n",
    "    directory and creates a file with all notes in string format. If a song \n",
    "    has more than 1 instrument, it will only take the first one.\"\"\"\n",
    "    \n",
    "    notes = []\n",
    "    music_list = []\n",
    "\n",
    "    for file in glob.glob(\"{}/*.mid\".format(midi_path)):\n",
    "        notes = []\n",
    "        midi = converter.parse(file)\n",
    "\n",
    "        #print(\"Parsing %s\" % file)\n",
    "\n",
    "        notes_to_parse = None\n",
    "\n",
    "        try: # file has instrument parts\n",
    "            s2 = instrument.partitionByInstrument(midi)\n",
    "            notes_to_parse = s2.parts[0].recurse() \n",
    "        except: # file has notes in a flat structure\n",
    "            notes_to_parse = midi.flat.notes\n",
    "\n",
    "        for element in notes_to_parse:\n",
    "            if isinstance(element, note.Note):\n",
    "                notes.append(str(element.pitch))\n",
    "            elif isinstance(element, chord.Chord):\n",
    "                notes.append('.'.join(str(n) for n in element.normalOrder))\n",
    "        music_list.append(notes)\n",
    "       \n",
    "\n",
    "    return music_list"
   ]
  },
  {
   "cell_type": "code",
   "execution_count": 3,
   "metadata": {
    "scrolled": true
   },
   "outputs": [],
   "source": [
    "my_path = 'D:/Documents/Music generation project/data/ff_midi/'\n",
    "music_list = get_notes(my_path)"
   ]
  },
  {
   "cell_type": "markdown",
   "metadata": {},
   "source": [
    "We now have a list with all the notes and chords. The chords are the numbers and the note the char."
   ]
  },
  {
   "cell_type": "code",
   "execution_count": 4,
   "metadata": {
    "scrolled": false
   },
   "outputs": [
    {
     "name": "stdout",
     "output_type": "stream",
     "text": [
      "There are 91 music.\n"
     ]
    }
   ],
   "source": [
    "print(\"There are {} music.\".format(len(music_list)))"
   ]
  },
  {
   "cell_type": "code",
   "execution_count": 5,
   "metadata": {
    "scrolled": true
   },
   "outputs": [
    {
     "name": "stdout",
     "output_type": "stream",
     "text": [
      "370\n",
      "(91,)\n"
     ]
    }
   ],
   "source": [
    "print(len(music_list[1]))\n",
    "print(np.shape(music_list))"
   ]
  },
  {
   "cell_type": "markdown",
   "metadata": {},
   "source": [
    "As we can see above, we have a list of list. Each element is a list containing note and chord and each element are separated. We will now unify each note and chord into one string for each song."
   ]
  },
  {
   "cell_type": "code",
   "execution_count": 6,
   "metadata": {
    "scrolled": true
   },
   "outputs": [
    {
     "name": "stdout",
     "output_type": "stream",
     "text": [
      "(91, 1)\n",
      "1\n"
     ]
    }
   ],
   "source": [
    "music_list2 = [[' '.join(i)] for i in music_list]\n",
    "print(np.shape(music_list2))\n",
    "print(len(music_list2[1]))"
   ]
  },
  {
   "cell_type": "markdown",
   "metadata": {},
   "source": [
    "Create a df with all the music and a id for each music"
   ]
  },
  {
   "cell_type": "code",
   "execution_count": 7,
   "metadata": {},
   "outputs": [
    {
     "data": {
      "text/html": [
       "<div>\n",
       "<style scoped>\n",
       "    .dataframe tbody tr th:only-of-type {\n",
       "        vertical-align: middle;\n",
       "    }\n",
       "\n",
       "    .dataframe tbody tr th {\n",
       "        vertical-align: top;\n",
       "    }\n",
       "\n",
       "    .dataframe thead th {\n",
       "        text-align: right;\n",
       "    }\n",
       "</style>\n",
       "<table border=\"1\" class=\"dataframe\">\n",
       "  <thead>\n",
       "    <tr style=\"text-align: right;\">\n",
       "      <th></th>\n",
       "      <th>id</th>\n",
       "      <th>music</th>\n",
       "    </tr>\n",
       "  </thead>\n",
       "  <tbody>\n",
       "    <tr>\n",
       "      <th>0</th>\n",
       "      <td>1</td>\n",
       "      <td>4.9 E2 4.9 4.9 4.9 4.9 4.9 4.9 4.9 11.4 4.9 11...</td>\n",
       "    </tr>\n",
       "    <tr>\n",
       "      <th>1</th>\n",
       "      <td>2</td>\n",
       "      <td>C5 E4 C2 C5 E4 C2 G4 G4 C5 C5 D5 10.2 B-1 D5 1...</td>\n",
       "    </tr>\n",
       "    <tr>\n",
       "      <th>2</th>\n",
       "      <td>3</td>\n",
       "      <td>0.4 0.4 0.5 0.5 0.4 0.4 0.2 C5 0.2 F5 G5 0.4 0...</td>\n",
       "    </tr>\n",
       "    <tr>\n",
       "      <th>3</th>\n",
       "      <td>4</td>\n",
       "      <td></td>\n",
       "    </tr>\n",
       "    <tr>\n",
       "      <th>4</th>\n",
       "      <td>5</td>\n",
       "      <td>F3 C4 4.9 E4 C4 2.5 E4 C4 9.0 E4 C4 F3 C4 4.9 ...</td>\n",
       "    </tr>\n",
       "  </tbody>\n",
       "</table>\n",
       "</div>"
      ],
      "text/plain": [
       "   id                                              music\n",
       "0   1  4.9 E2 4.9 4.9 4.9 4.9 4.9 4.9 4.9 11.4 4.9 11...\n",
       "1   2  C5 E4 C2 C5 E4 C2 G4 G4 C5 C5 D5 10.2 B-1 D5 1...\n",
       "2   3  0.4 0.4 0.5 0.5 0.4 0.4 0.2 C5 0.2 F5 G5 0.4 0...\n",
       "3   4                                                   \n",
       "4   5  F3 C4 4.9 E4 C4 2.5 E4 C4 9.0 E4 C4 F3 C4 4.9 ..."
      ]
     },
     "execution_count": 7,
     "metadata": {},
     "output_type": "execute_result"
    }
   ],
   "source": [
    "df = pd.DataFrame(music_list2, columns = ['music'])\n",
    "df['id'] = [i for i in range(1, len(df) +1)]\n",
    "df= df[['id','music']]\n",
    "df.head()"
   ]
  },
  {
   "cell_type": "markdown",
   "metadata": {},
   "source": [
    "Extract the df"
   ]
  },
  {
   "cell_type": "code",
   "execution_count": 8,
   "metadata": {},
   "outputs": [],
   "source": [
    "df.to_csv(r'D:\\Documents\\Music generation project\\data\\df\\ff_music_df.csv', index = False)"
   ]
  }
 ],
 "metadata": {
  "kernelspec": {
   "display_name": "Python 3",
   "language": "python",
   "name": "python3"
  },
  "language_info": {
   "codemirror_mode": {
    "name": "ipython",
    "version": 3
   },
   "file_extension": ".py",
   "mimetype": "text/x-python",
   "name": "python",
   "nbconvert_exporter": "python",
   "pygments_lexer": "ipython3",
   "version": "3.7.3"
  }
 },
 "nbformat": 4,
 "nbformat_minor": 4
}
